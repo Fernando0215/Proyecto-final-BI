{
  "nbformat": 4,
  "nbformat_minor": 0,
  "metadata": {
    "colab": {
      "provenance": [],
      "toc_visible": true
    },
    "kernelspec": {
      "name": "python3",
      "display_name": "Python 3"
    },
    "language_info": {
      "name": "python"
    }
  },
  "cells": [
    {
      "cell_type": "code",
      "execution_count": null,
      "metadata": {
        "id": "RUV-7auu6Hbg"
      },
      "outputs": [],
      "source": [
        "\n",
        "import pandas as pd\n",
        "import matplotlib.pyplot as plt\n",
        "import seaborn as sns\n",
        "\n",
        "archivo_excel = \"/content/Datos_Restaurante_Ejemplo_6meses.xlsx\"\n",
        "xls = pd.ExcelFile(archivo_excel)\n",
        "\n",
        "# Cargar las hojas necesarias\n",
        "ventas = xls.parse('Ventas')\n",
        "detalles = xls.parse('DetallesVenta')\n",
        "platillos = xls.parse('Platillos')\n"
      ]
    },
    {
      "cell_type": "code",
      "source": [
        "total_clientes = ventas['id_cliente'].nunique()\n",
        "print(\"Total de Clientes:\", total_clientes)"
      ],
      "metadata": {
        "colab": {
          "base_uri": "https://localhost:8080/"
        },
        "id": "CZvBxBd76VAo",
        "outputId": "10943c54-8e43-4078-a6c7-7ee6a173aa97"
      },
      "execution_count": null,
      "outputs": [
        {
          "output_type": "stream",
          "name": "stdout",
          "text": [
            "Total de Clientes: 60\n"
          ]
        }
      ]
    },
    {
      "cell_type": "code",
      "source": [
        "ticket_promedio = ventas['total'].mean()\n",
        "print(\"Ticket Promedio: $\", round(ticket_promedio, 2))"
      ],
      "metadata": {
        "colab": {
          "base_uri": "https://localhost:8080/"
        },
        "id": "i6B3z6fp6Z4v",
        "outputId": "be40dd73-cf37-4829-adfa-2690d3096cf4"
      },
      "execution_count": null,
      "outputs": [
        {
          "output_type": "stream",
          "name": "stdout",
          "text": [
            "Ticket Promedio: $ 56.28\n"
          ]
        }
      ]
    },
    {
      "cell_type": "code",
      "source": [
        "visitas_por_cliente = ventas.groupby('id_cliente').size()\n",
        "promedio_visitas = visitas_por_cliente.mean()\n",
        "print(\"Promedio de visitas por cliente:\", round(promedio_visitas, 1))"
      ],
      "metadata": {
        "colab": {
          "base_uri": "https://localhost:8080/"
        },
        "id": "PKZ-5bno6e8e",
        "outputId": "3977916e-70d1-40e2-de53-203452bc2764"
      },
      "execution_count": null,
      "outputs": [
        {
          "output_type": "stream",
          "name": "stdout",
          "text": [
            "Promedio de visitas por cliente: 8.6\n"
          ]
        }
      ]
    },
    {
      "cell_type": "code",
      "source": [
        "clientes = xls.parse('Clientes')\n",
        "# Calcular el gasto total por cliente\n",
        "gasto_por_cliente = ventas.groupby('id_cliente')['total'].sum().reset_index(name='gasto_total')\n",
        "\n",
        "# Obtener el top 5\n",
        "top_gasto = gasto_por_cliente.sort_values(by='gasto_total', ascending=False).head(5)\n",
        "\n",
        "# Unir con el nombre del cliente\n",
        "top_gasto = top_gasto.merge(clientes[['id_cliente', 'nombre_cliente']], on='id_cliente')\n",
        "\n",
        "# Reordenar columnas para mejor visualización\n",
        "top_gasto = top_gasto[['nombre_cliente', 'id_cliente', 'gasto_total']]\n",
        "\n",
        "# Mostrar como tabla formateada\n",
        "top_gasto.style.format({'gasto_total': '${:,.2f}'}).set_caption(\"Top 5 Clientes por Gasto\")"
      ],
      "metadata": {
        "colab": {
          "base_uri": "https://localhost:8080/",
          "height": 223
        },
        "id": "U3sZXU_G6iLK",
        "outputId": "2a5f04d3-3b1b-4530-dba6-4beb6a93fc02"
      },
      "execution_count": null,
      "outputs": [
        {
          "output_type": "execute_result",
          "data": {
            "text/plain": [
              "<pandas.io.formats.style.Styler at 0x7ec351dfe1d0>"
            ],
            "text/html": [
              "<style type=\"text/css\">\n",
              "</style>\n",
              "<table id=\"T_1280d\" class=\"dataframe\">\n",
              "  <caption>Top 5 Clientes por Gasto</caption>\n",
              "  <thead>\n",
              "    <tr>\n",
              "      <th class=\"blank level0\" >&nbsp;</th>\n",
              "      <th id=\"T_1280d_level0_col0\" class=\"col_heading level0 col0\" >nombre_cliente</th>\n",
              "      <th id=\"T_1280d_level0_col1\" class=\"col_heading level0 col1\" >id_cliente</th>\n",
              "      <th id=\"T_1280d_level0_col2\" class=\"col_heading level0 col2\" >gasto_total</th>\n",
              "    </tr>\n",
              "  </thead>\n",
              "  <tbody>\n",
              "    <tr>\n",
              "      <th id=\"T_1280d_level0_row0\" class=\"row_heading level0 row0\" >0</th>\n",
              "      <td id=\"T_1280d_row0_col0\" class=\"data row0 col0\" >David Herrera</td>\n",
              "      <td id=\"T_1280d_row0_col1\" class=\"data row0 col1\" >9</td>\n",
              "      <td id=\"T_1280d_row0_col2\" class=\"data row0 col2\" >$873.00</td>\n",
              "    </tr>\n",
              "    <tr>\n",
              "      <th id=\"T_1280d_level0_row1\" class=\"row_heading level0 row1\" >1</th>\n",
              "      <td id=\"T_1280d_row1_col0\" class=\"data row1 col0\" >Francisco Molina</td>\n",
              "      <td id=\"T_1280d_row1_col1\" class=\"data row1 col1\" >24</td>\n",
              "      <td id=\"T_1280d_row1_col2\" class=\"data row1 col2\" >$867.10</td>\n",
              "    </tr>\n",
              "    <tr>\n",
              "      <th id=\"T_1280d_level0_row2\" class=\"row_heading level0 row2\" >2</th>\n",
              "      <td id=\"T_1280d_row2_col0\" class=\"data row2 col0\" >Rosario Guzmán</td>\n",
              "      <td id=\"T_1280d_row2_col1\" class=\"data row2 col1\" >40</td>\n",
              "      <td id=\"T_1280d_row2_col2\" class=\"data row2 col2\" >$837.45</td>\n",
              "    </tr>\n",
              "    <tr>\n",
              "      <th id=\"T_1280d_level0_row3\" class=\"row_heading level0 row3\" >3</th>\n",
              "      <td id=\"T_1280d_row3_col0\" class=\"data row3 col0\" >Verónica León</td>\n",
              "      <td id=\"T_1280d_row3_col1\" class=\"data row3 col1\" >16</td>\n",
              "      <td id=\"T_1280d_row3_col2\" class=\"data row3 col2\" >$751.00</td>\n",
              "    </tr>\n",
              "    <tr>\n",
              "      <th id=\"T_1280d_level0_row4\" class=\"row_heading level0 row4\" >4</th>\n",
              "      <td id=\"T_1280d_row4_col0\" class=\"data row4 col0\" >Claudia Vargas</td>\n",
              "      <td id=\"T_1280d_row4_col1\" class=\"data row4 col1\" >18</td>\n",
              "      <td id=\"T_1280d_row4_col2\" class=\"data row4 col2\" >$750.60</td>\n",
              "    </tr>\n",
              "  </tbody>\n",
              "</table>\n"
            ]
          },
          "metadata": {},
          "execution_count": 68
        }
      ]
    },
    {
      "cell_type": "code",
      "source": [
        "clientes = xls.parse('Clientes')\n",
        "\n",
        "# Unir detalles con ventas para conocer el cliente de cada detalle\n",
        "detalles_con_cliente = detalles.merge(ventas[['id_venta', 'id_cliente']], on='id_venta')\n",
        "\n",
        "# Unir con los nombres de platillos\n",
        "detalles_completos = detalles_con_cliente.merge(platillos[['id_platillo', 'nombre_platillo']], on='id_platillo')\n",
        "\n",
        "# Total de compras por cliente\n",
        "compras_por_cliente = ventas.groupby('id_cliente').size().reset_index(name='Compras')\n",
        "\n",
        "# Plato más comprado por cliente\n",
        "plato_favorito = (\n",
        "    detalles_completos.groupby(['id_cliente', 'nombre_platillo'])['cantidad']\n",
        "    .sum()\n",
        "    .reset_index()\n",
        "    .sort_values(['id_cliente', 'cantidad'], ascending=[True, False])\n",
        ")\n",
        "\n",
        "# Obtener solo el plato favorito por cliente\n",
        "plato_favorito_unico = plato_favorito.groupby('id_cliente').first().reset_index()\n",
        "\n",
        "# Combinar con compras\n",
        "tabla_compras_favorito = compras_por_cliente.merge(plato_favorito_unico, on='id_cliente')\n",
        "\n",
        "# Agregar el nombre del cliente desde la tabla de clientes\n",
        "tabla_compras_favorito = tabla_compras_favorito.merge(clientes[['id_cliente', 'nombre_cliente']], on='id_cliente')\n",
        "\n",
        "# Ordenar por número de compras descendente y tomar solo los primeros 5 clientes\n",
        "top5 = tabla_compras_favorito.sort_values(by='Compras', ascending=False).head(5)\n",
        "\n",
        "\n",
        "# Opcional: aplicar estilo para visualización limpia en Jupyter o entorno compatible\n",
        "top5.style.set_caption(\"Top 5 Clientes por Número de Compras\")\n"
      ],
      "metadata": {
        "colab": {
          "base_uri": "https://localhost:8080/",
          "height": 223
        },
        "id": "FBesgZPyBJy_",
        "outputId": "1758e293-ecf8-4f68-ab32-95e6deb7217c"
      },
      "execution_count": null,
      "outputs": [
        {
          "output_type": "execute_result",
          "data": {
            "text/plain": [
              "<pandas.io.formats.style.Styler at 0x7ec3511fc390>"
            ],
            "text/html": [
              "<style type=\"text/css\">\n",
              "</style>\n",
              "<table id=\"T_4fbe3\" class=\"dataframe\">\n",
              "  <caption>Top 5 Clientes por Número de Compras</caption>\n",
              "  <thead>\n",
              "    <tr>\n",
              "      <th class=\"blank level0\" >&nbsp;</th>\n",
              "      <th id=\"T_4fbe3_level0_col0\" class=\"col_heading level0 col0\" >id_cliente</th>\n",
              "      <th id=\"T_4fbe3_level0_col1\" class=\"col_heading level0 col1\" >Compras</th>\n",
              "      <th id=\"T_4fbe3_level0_col2\" class=\"col_heading level0 col2\" >nombre_platillo</th>\n",
              "      <th id=\"T_4fbe3_level0_col3\" class=\"col_heading level0 col3\" >cantidad</th>\n",
              "      <th id=\"T_4fbe3_level0_col4\" class=\"col_heading level0 col4\" >nombre_cliente</th>\n",
              "    </tr>\n",
              "  </thead>\n",
              "  <tbody>\n",
              "    <tr>\n",
              "      <th id=\"T_4fbe3_level0_row0\" class=\"row_heading level0 row0\" >13</th>\n",
              "      <td id=\"T_4fbe3_row0_col0\" class=\"data row0 col0\" >14</td>\n",
              "      <td id=\"T_4fbe3_row0_col1\" class=\"data row0 col1\" >16</td>\n",
              "      <td id=\"T_4fbe3_row0_col2\" class=\"data row0 col2\" >Hamburguesa clásica</td>\n",
              "      <td id=\"T_4fbe3_row0_col3\" class=\"data row0 col3\" >10</td>\n",
              "      <td id=\"T_4fbe3_row0_col4\" class=\"data row0 col4\" >Pablo Romero</td>\n",
              "    </tr>\n",
              "    <tr>\n",
              "      <th id=\"T_4fbe3_level0_row1\" class=\"row_heading level0 row1\" >15</th>\n",
              "      <td id=\"T_4fbe3_row1_col0\" class=\"data row1 col0\" >16</td>\n",
              "      <td id=\"T_4fbe3_row1_col1\" class=\"data row1 col1\" >15</td>\n",
              "      <td id=\"T_4fbe3_row1_col2\" class=\"data row1 col2\" >Brownie con nuez</td>\n",
              "      <td id=\"T_4fbe3_row1_col3\" class=\"data row1 col3\" >12</td>\n",
              "      <td id=\"T_4fbe3_row1_col4\" class=\"data row1 col4\" >Verónica León</td>\n",
              "    </tr>\n",
              "    <tr>\n",
              "      <th id=\"T_4fbe3_level0_row2\" class=\"row_heading level0 row2\" >39</th>\n",
              "      <td id=\"T_4fbe3_row2_col0\" class=\"data row2 col0\" >40</td>\n",
              "      <td id=\"T_4fbe3_row2_col1\" class=\"data row2 col1\" >15</td>\n",
              "      <td id=\"T_4fbe3_row2_col2\" class=\"data row2 col2\" >Tacos al pastor</td>\n",
              "      <td id=\"T_4fbe3_row2_col3\" class=\"data row2 col3\" >12</td>\n",
              "      <td id=\"T_4fbe3_row2_col4\" class=\"data row2 col4\" >Rosario Guzmán</td>\n",
              "    </tr>\n",
              "    <tr>\n",
              "      <th id=\"T_4fbe3_level0_row3\" class=\"row_heading level0 row3\" >8</th>\n",
              "      <td id=\"T_4fbe3_row3_col0\" class=\"data row3 col0\" >9</td>\n",
              "      <td id=\"T_4fbe3_row3_col1\" class=\"data row3 col1\" >14</td>\n",
              "      <td id=\"T_4fbe3_row3_col2\" class=\"data row3 col2\" >Burrito de carne</td>\n",
              "      <td id=\"T_4fbe3_row3_col3\" class=\"data row3 col3\" >12</td>\n",
              "      <td id=\"T_4fbe3_row3_col4\" class=\"data row3 col4\" >David Herrera</td>\n",
              "    </tr>\n",
              "    <tr>\n",
              "      <th id=\"T_4fbe3_level0_row4\" class=\"row_heading level0 row4\" >23</th>\n",
              "      <td id=\"T_4fbe3_row4_col0\" class=\"data row4 col0\" >24</td>\n",
              "      <td id=\"T_4fbe3_row4_col1\" class=\"data row4 col1\" >14</td>\n",
              "      <td id=\"T_4fbe3_row4_col2\" class=\"data row4 col2\" >Hamburguesa clásica</td>\n",
              "      <td id=\"T_4fbe3_row4_col3\" class=\"data row4 col3\" >14</td>\n",
              "      <td id=\"T_4fbe3_row4_col4\" class=\"data row4 col4\" >Francisco Molina</td>\n",
              "    </tr>\n",
              "  </tbody>\n",
              "</table>\n"
            ]
          },
          "metadata": {},
          "execution_count": 64
        }
      ]
    },
    {
      "cell_type": "code",
      "source": [
        "# Calcular el ticket promedio por cliente\n",
        "ticket_promedio_por_cliente = ventas.groupby('id_cliente')['total'].mean().reset_index(name='ticket_promedio')\n",
        "\n",
        "# Ordenar y quedarte con el top 5\n",
        "top_ticket_promedio = ticket_promedio_por_cliente.sort_values(by='ticket_promedio', ascending=False).head(5)\n",
        "\n",
        "# Agregar el nombre del cliente desde la tabla clientes\n",
        "top_ticket_promedio = top_ticket_promedio.merge(clientes[['id_cliente', 'nombre_cliente']], on='id_cliente')\n",
        "\n",
        "# Reordenar columnas para mejor visualización (opcional)\n",
        "top_ticket_promedio = top_ticket_promedio[['id_cliente', 'nombre_cliente', 'ticket_promedio']]\n",
        "\n",
        "\n",
        "# Mostrar tabla bonita con formato monetario y título (en Jupyter o similar)\n",
        "top_ticket_promedio.style.format({'ticket_promedio': '${:,.2f}'}).set_caption(\"💵 Top 5 Clientes por Ticket Promedio\")\n"
      ],
      "metadata": {
        "colab": {
          "base_uri": "https://localhost:8080/",
          "height": 223
        },
        "id": "9RnwM3HWCHQa",
        "outputId": "2f42fbe0-279c-449e-df67-bca8d338e0f6"
      },
      "execution_count": null,
      "outputs": [
        {
          "output_type": "execute_result",
          "data": {
            "text/plain": [
              "<pandas.io.formats.style.Styler at 0x7ec351c01a10>"
            ],
            "text/html": [
              "<style type=\"text/css\">\n",
              "</style>\n",
              "<table id=\"T_f90c9\" class=\"dataframe\">\n",
              "  <caption>💵 Top 5 Clientes por Ticket Promedio</caption>\n",
              "  <thead>\n",
              "    <tr>\n",
              "      <th class=\"blank level0\" >&nbsp;</th>\n",
              "      <th id=\"T_f90c9_level0_col0\" class=\"col_heading level0 col0\" >id_cliente</th>\n",
              "      <th id=\"T_f90c9_level0_col1\" class=\"col_heading level0 col1\" >nombre_cliente</th>\n",
              "      <th id=\"T_f90c9_level0_col2\" class=\"col_heading level0 col2\" >ticket_promedio</th>\n",
              "    </tr>\n",
              "  </thead>\n",
              "  <tbody>\n",
              "    <tr>\n",
              "      <th id=\"T_f90c9_level0_row0\" class=\"row_heading level0 row0\" >0</th>\n",
              "      <td id=\"T_f90c9_row0_col0\" class=\"data row0 col0\" >52</td>\n",
              "      <td id=\"T_f90c9_row0_col1\" class=\"data row0 col1\" >Gonzalo Montes</td>\n",
              "      <td id=\"T_f90c9_row0_col2\" class=\"data row0 col2\" >$80.66</td>\n",
              "    </tr>\n",
              "    <tr>\n",
              "      <th id=\"T_f90c9_level0_row1\" class=\"row_heading level0 row1\" >1</th>\n",
              "      <td id=\"T_f90c9_row1_col0\" class=\"data row1 col0\" >47</td>\n",
              "      <td id=\"T_f90c9_row1_col1\" class=\"data row1 col1\" >Rubén Aguado</td>\n",
              "      <td id=\"T_f90c9_row1_col2\" class=\"data row1 col2\" >$76.56</td>\n",
              "    </tr>\n",
              "    <tr>\n",
              "      <th id=\"T_f90c9_level0_row2\" class=\"row_heading level0 row2\" >2</th>\n",
              "      <td id=\"T_f90c9_row2_col0\" class=\"data row2 col0\" >27</td>\n",
              "      <td id=\"T_f90c9_row2_col1\" class=\"data row2 col1\" >Vicente Cordero</td>\n",
              "      <td id=\"T_f90c9_row2_col2\" class=\"data row2 col2\" >$75.41</td>\n",
              "    </tr>\n",
              "    <tr>\n",
              "      <th id=\"T_f90c9_level0_row3\" class=\"row_heading level0 row3\" >3</th>\n",
              "      <td id=\"T_f90c9_row3_col0\" class=\"data row3 col0\" >37</td>\n",
              "      <td id=\"T_f90c9_row3_col1\" class=\"data row3 col1\" >Iván Castillo</td>\n",
              "      <td id=\"T_f90c9_row3_col2\" class=\"data row3 col2\" >$72.62</td>\n",
              "    </tr>\n",
              "    <tr>\n",
              "      <th id=\"T_f90c9_level0_row4\" class=\"row_heading level0 row4\" >4</th>\n",
              "      <td id=\"T_f90c9_row4_col0\" class=\"data row4 col0\" >42</td>\n",
              "      <td id=\"T_f90c9_row4_col1\" class=\"data row4 col1\" >Carmen Mejía</td>\n",
              "      <td id=\"T_f90c9_row4_col2\" class=\"data row4 col2\" >$71.00</td>\n",
              "    </tr>\n",
              "  </tbody>\n",
              "</table>\n"
            ]
          },
          "metadata": {},
          "execution_count": 66
        }
      ]
    }
  ]
}