{
 "cells": [
  {
   "cell_type": "markdown",
   "id": "98041d71",
   "metadata": {},
   "source": [
    "# Análisis de Compras de Ingredientes"
   ]
  },
  {
   "cell_type": "code",
   "execution_count": null,
   "id": "f38b839b",
   "metadata": {},
   "outputs": [],
   "source": [
    "\n",
    "import pandas as pd\n",
    "import matplotlib.pyplot as plt\n",
    "import seaborn as sns\n",
    "\n",
    "# Cargar archivo Excel\n",
    "file = \"/content/Datos_Restaurante_Ejemplo_6meses.xlsx\"\n",
    "xls = pd.ExcelFile(file)\n",
    "\n",
    "# Cargar hojas necesarias\n",
    "compras = xls.parse(\"ComprasIngredientes\")\n",
    "ingredientes = xls.parse(\"Ingredientes\")\n",
    "\n",
    "# Asegurar tipo de fecha correcto\n",
    "compras[\"fecha\"] = pd.to_datetime(compras[\"fecha\"])\n",
    "compras[\"mes\"] = compras[\"fecha\"].dt.to_period(\"M\")\n",
    "\n",
    "# Unir con tabla de ingredientes\n",
    "compras = pd.merge(compras, ingredientes, on=\"id_ingrediente\", how=\"left\")\n"
   ]
  },
  {
   "cell_type": "markdown",
   "id": "84032356",
   "metadata": {},
   "source": [
    "## Total de Ingredientes Comprados por Mes"
   ]
  },
  {
   "cell_type": "code",
   "execution_count": null,
   "id": "218d0815",
   "metadata": {},
   "outputs": [],
   "source": [
    "\n",
    "compras_mes = compras.groupby(\"mes\")[\"cantidad_comprada\"].sum().reset_index()\n",
    "\n",
    "plt.figure(figsize=(10, 5))\n",
    "sns.barplot(data=compras_mes, x=\"mes\", y=\"cantidad_comprada\", color=\"skyblue\")\n",
    "plt.title(\"Cantidad total de ingredientes comprados por mes\")\n",
    "plt.ylabel(\"Cantidad\")\n",
    "plt.xticks(rotation=45)\n",
    "plt.tight_layout()\n",
    "plt.show()\n"
   ]
  },
  {
   "cell_type": "markdown",
   "id": "9064fbc1",
   "metadata": {},
   "source": [
    "## Ingredientes Más Comprados (Total)"
   ]
  },
  {
   "cell_type": "code",
   "execution_count": null,
   "id": "6989f9b0",
   "metadata": {},
   "outputs": [],
   "source": [
    "\n",
    "ingredientes_mas_comprados = compras.groupby(\"nombre_ingrediente\")[\"cantidad_comprada\"].sum().reset_index()\n",
    "ingredientes_mas_comprados = ingredientes_mas_comprados.sort_values(\"cantidad_comprada\", ascending=False).head(10)\n",
    "\n",
    "plt.figure(figsize=(10, 6))\n",
    "sns.barplot(data=ingredientes_mas_comprados, y=\"nombre_ingrediente\", x=\"cantidad_comprada\", palette=\"Greens\")\n",
    "plt.title(\"Top 10 ingredientes más comprados\")\n",
    "plt.xlabel(\"Cantidad comprada\")\n",
    "plt.ylabel(\"Ingrediente\")\n",
    "plt.tight_layout()\n",
    "plt.show()\n"
   ]
  },
  {
   "cell_type": "markdown",
   "id": "98d7e483",
   "metadata": {},
   "source": [
    "## Distribución de Compras por Ingrediente (Pastel)"
   ]
  },
  {
   "cell_type": "code",
   "execution_count": null,
   "id": "43c67422",
   "metadata": {},
   "outputs": [],
   "source": [
    "\n",
    "top_pie = ingredientes_mas_comprados.copy()\n",
    "plt.figure(figsize=(6, 6))\n",
    "plt.pie(top_pie[\"cantidad_comprada\"], labels=top_pie[\"nombre_ingrediente\"], autopct=\"%1.1f%%\", startangle=140)\n",
    "plt.title(\"Distribución de compras por ingrediente\")\n",
    "plt.axis(\"equal\")\n",
    "plt.show()\n"
   ]
  },
  {
   "cell_type": "markdown",
   "id": "30c3cfa7",
   "metadata": {},
   "source": [
    "## Tendencia Mensual de Compras"
   ]
  },
  {
   "cell_type": "code",
   "execution_count": null,
   "id": "011a9db1",
   "metadata": {},
   "outputs": [],
   "source": [
    "\n",
    "plt.figure(figsize=(10, 5))\n",
    "sns.lineplot(data=compras_mes, x=\"mes\", y=\"cantidad_comprada\", marker=\"o\", color=\"orange\")\n",
    "plt.title(\"Tendencia mensual de compras de ingredientes\")\n",
    "plt.ylabel(\"Cantidad\")\n",
    "plt.xticks(rotation=45)\n",
    "plt.tight_layout()\n",
    "plt.show()\n"
   ]
  },
  {
   "cell_type": "markdown",
   "id": "932cf28f",
   "metadata": {},
   "source": [
    "## Costo Total por Ingrediente"
   ]
  },
  {
   "cell_type": "code",
   "execution_count": null,
   "id": "8ac8144a",
   "metadata": {},
   "outputs": [],
   "source": [
    "\n",
    "compras[\"costo_total\"] = compras[\"cantidad_comprada\"] * compras[\"costo_unitario\"]\n",
    "costo_total = compras.groupby(\"nombre_ingrediente\")[\"costo_total\"].sum().reset_index().sort_values(\"costo_total\", ascending=False)\n",
    "costo_total.head(10)\n"
   ]
  }
 ],
 "metadata": {
  "language_info": {
   "name": "python"
  }
 },
 "nbformat": 4,
 "nbformat_minor": 5
}
